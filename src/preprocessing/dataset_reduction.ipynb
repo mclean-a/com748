{
 "cells": [
  {
   "cell_type": "markdown",
   "metadata": {},
   "source": [
    "Reducing the dataset: Using the columns identified in null analysis and selecting only specific Seagate models"
   ]
  },
  {
   "cell_type": "code",
   "execution_count": 2,
   "metadata": {},
   "outputs": [],
   "source": [
    "# Imports\n",
    "import pandas as pd\n",
    "import numpy as np\n",
    "import glob\n",
    "from pathlib import Path\n",
    "import pyarrow as pa\n",
    "import pyarrow.parquet as pq\n",
    "import dask.dataframe as ddf"
   ]
  },
  {
   "cell_type": "code",
   "execution_count": 3,
   "metadata": {},
   "outputs": [],
   "source": [
    "parquet_files = glob.glob('C:/com748/data/raw/parquet/*.parquet')\n",
    "\n",
    "for file in parquet_files:\n",
    "\n",
    "    date = Path(file).stem\n",
    "\n",
    "    # Get columns with low null percentage\n",
    "    df = pd.read_parquet(file, \n",
    "                            columns=['date', 'serial_number', 'model', 'capacity_bytes', 'failure', 'smart_1_normalized', 'smart_1_raw', \n",
    "                                   'smart_3_normalized', 'smart_3_raw', 'smart_4_normalized', 'smart_4_raw', 'smart_5_normalized', 'smart_5_raw', \n",
    "                                   'smart_7_normalized', 'smart_7_raw', 'smart_9_normalized', 'smart_9_raw', 'smart_10_normalized', 'smart_10_raw', \n",
    "                                   'smart_12_normalized', 'smart_12_raw', 'smart_187_normalized', 'smart_187_raw', 'smart_188_normalized', 'smart_188_raw', \n",
    "                                   'smart_190_normalized', 'smart_190_raw', 'smart_192_normalized', 'smart_192_raw', 'smart_193_normalized', 'smart_193_raw', \n",
    "                                   'smart_194_normalized', 'smart_194_raw', 'smart_197_normalized', 'smart_197_raw', 'smart_198_normalized', 'smart_198_raw', \n",
    "                                   'smart_199_normalized', 'smart_199_raw', 'smart_240_normalized', 'smart_240_raw', 'smart_241_normalized', 'smart_241_raw', \n",
    "                                   'smart_242_normalized', 'smart_242_raw'], \n",
    "                            engine='pyarrow')\n",
    "    \n",
    "    df = df[df['model'].isin(['ST4000DM000', 'ST12000NM0007', 'ST8000NM0055', 'ST3000DM001', 'ST12000NM0008', 'ST8000DM002', 'ST14000NM001G'])]\n",
    "\n",
    "    parquet_path = f'C:/com748/data/processed/daily/{date}.parquet'\n",
    "    table_data = pa.Table.from_pandas(df)\n",
    "    pq.write_table(table_data, parquet_path)\n"
   ]
  }
 ],
 "metadata": {
  "kernelspec": {
   "display_name": "venv",
   "language": "python",
   "name": "python3"
  },
  "language_info": {
   "codemirror_mode": {
    "name": "ipython",
    "version": 3
   },
   "file_extension": ".py",
   "mimetype": "text/x-python",
   "name": "python",
   "nbconvert_exporter": "python",
   "pygments_lexer": "ipython3",
   "version": "3.10.7"
  }
 },
 "nbformat": 4,
 "nbformat_minor": 2
}
