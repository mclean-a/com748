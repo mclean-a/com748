{
 "cells": [
  {
   "cell_type": "markdown",
   "metadata": {},
   "source": [
    "# Balance failed/non-failed model counts by undersampling non-failing category"
   ]
  },
  {
   "cell_type": "code",
   "execution_count": 1,
   "metadata": {},
   "outputs": [],
   "source": [
    "# Imports\n",
    "import pandas as pd\n",
    "import numpy as np\n",
    "import glob\n",
    "from pathlib import Path\n",
    "import pyarrow as pa\n",
    "import pyarrow.parquet as pq\n",
    "import dask.dataframe as ddf\n",
    "from datetime import datetime, timedelta\n",
    "import seaborn as sns"
   ]
  },
  {
   "cell_type": "markdown",
   "metadata": {},
   "source": [
    "# Day minus 0"
   ]
  },
  {
   "cell_type": "code",
   "execution_count": 6,
   "metadata": {},
   "outputs": [
    {
     "name": "stdout",
     "output_type": "stream",
     "text": [
      "model\n",
      "ST4000DM000      5602\n",
      "ST12000NM0007    2106\n",
      "ST8000NM0055     1718\n",
      "ST3000DM001      1454\n",
      "ST12000NM0008    1349\n",
      "ST8000DM002      1037\n",
      "ST14000NM001G     418\n",
      "Name: count, dtype: int64\n",
      "model\n",
      "ST4000DM000      5602\n",
      "ST12000NM0007    2106\n",
      "ST8000NM0055     1718\n",
      "ST3000DM001      1454\n",
      "ST12000NM0008    1349\n",
      "ST8000DM002      1037\n",
      "ST14000NM001G     418\n",
      "Name: count, dtype: int64\n"
     ]
    }
   ],
   "source": [
    "df_day_minus_0_failed = pd.read_csv('C:/com748/code/com748/data/processed/day_minus_0/failures.csv')\n",
    "model_failure_counts = df_day_minus_0_failed.model.value_counts()\n",
    "print(model_failure_counts)\n",
    "\n",
    "df_list_non_failing_drives = []\n",
    "\n",
    "df_non_failing_ST4000DM000 = pd.read_csv('C:/com748/code/com748/data/processed/non_failing_drives/random_ST4000DM000.csv')\n",
    "df_non_failing_ST4000DM000 = df_non_failing_ST4000DM000.sample(n=5602, ignore_index=True)\n",
    "df_list_non_failing_drives.append(df_non_failing_ST4000DM000)\n",
    "\n",
    "df_non_failing_ST12000NM0007 = pd.read_csv('C:/com748/code/com748/data/processed/non_failing_drives/random_ST12000NM0007.csv')\n",
    "df_non_failing_ST12000NM0007 = df_non_failing_ST12000NM0007.sample(n=2106, ignore_index=True)\n",
    "df_list_non_failing_drives.append(df_non_failing_ST12000NM0007)\n",
    "\n",
    "df_non_failing_ST8000NM0055 = pd.read_csv('C:/com748/code/com748/data/processed/non_failing_drives/random_ST8000NM0055.csv')\n",
    "df_non_failing_ST8000NM0055 = df_non_failing_ST8000NM0055.sample(n=1718, ignore_index=True)\n",
    "df_list_non_failing_drives.append(df_non_failing_ST8000NM0055)\n",
    "\n",
    "df_non_failing_ST3000DM001 = pd.read_csv('C:/com748/code/com748/data/processed/non_failing_drives/random_ST3000DM001.csv')\n",
    "df_non_failing_ST3000DM001 = df_non_failing_ST3000DM001.sample(n=1454, ignore_index=True)\n",
    "df_list_non_failing_drives.append(df_non_failing_ST3000DM001)\n",
    "\n",
    "df_non_failing_ST12000NM0008 = pd.read_csv('C:/com748/code/com748/data/processed/non_failing_drives/random_ST12000NM0008.csv')\n",
    "df_non_failing_ST12000NM0008 = df_non_failing_ST12000NM0008.sample(n=1349, ignore_index=True)\n",
    "df_list_non_failing_drives.append(df_non_failing_ST12000NM0008)\n",
    "\n",
    "df_non_failing_ST8000DM002 = pd.read_csv('C:/com748/code/com748/data/processed/non_failing_drives/random_ST8000DM002.csv')\n",
    "df_non_failing_ST8000DM002 = df_non_failing_ST8000DM002.sample(n=1037, ignore_index=True)\n",
    "df_list_non_failing_drives.append(df_non_failing_ST8000DM002)\n",
    "\n",
    "df_non_failing_ST14000NM001G = pd.read_csv('C:/com748/code/com748/data/processed/non_failing_drives/random_ST14000NM001G.csv')\n",
    "df_non_failing_ST14000NM001G = df_non_failing_ST14000NM001G.sample(n=418, ignore_index=True)\n",
    "df_list_non_failing_drives.append(df_non_failing_ST14000NM001G)\n",
    "\n",
    "df_non_failing_drives = pd.concat(df_list_non_failing_drives, ignore_index=True)\n",
    "model_non_failure_counts = df_non_failing_drives.model.value_counts()\n",
    "print(model_non_failure_counts)\n",
    "\n",
    "df_all = pd.concat([df_day_minus_0_failed, df_non_failing_drives], ignore_index=True)\n",
    "\n",
    "df_all.to_csv('C:/com748/code/com748/data/processed/balanced_dataset/day_minus_0.csv', index=False)"
   ]
  },
  {
   "cell_type": "markdown",
   "metadata": {},
   "source": [
    "# Day minus 1"
   ]
  },
  {
   "cell_type": "code",
   "execution_count": 5,
   "metadata": {},
   "outputs": [
    {
     "name": "stdout",
     "output_type": "stream",
     "text": [
      "model\n",
      "ST4000DM000      5536\n",
      "ST12000NM0007    2058\n",
      "ST8000NM0055     1645\n",
      "ST3000DM001      1432\n",
      "ST12000NM0008    1306\n",
      "ST8000DM002      1008\n",
      "ST14000NM001G     402\n",
      "Name: count, dtype: int64\n",
      "model\n",
      "ST4000DM000      5536\n",
      "ST12000NM0007    2058\n",
      "ST8000NM0055     1645\n",
      "ST3000DM001      1432\n",
      "ST12000NM0008    1306\n",
      "ST8000DM002      1008\n",
      "ST14000NM001G     402\n",
      "Name: count, dtype: int64\n"
     ]
    }
   ],
   "source": [
    "df_day_minus_1_failed = pd.read_csv('C:/com748/code/com748/data/processed/day_minus_1/failures.csv')\n",
    "model_failure_counts = df_day_minus_1_failed.model.value_counts()\n",
    "print(model_failure_counts)\n",
    "\n",
    "df_list_non_failing_drives = []\n",
    "\n",
    "df_non_failing_ST4000DM000 = pd.read_csv('C:/com748/code/com748/data/processed/non_failing_drives/random_ST4000DM000.csv')\n",
    "df_non_failing_ST4000DM000 = df_non_failing_ST4000DM000.sample(n=5536, ignore_index=True)\n",
    "df_list_non_failing_drives.append(df_non_failing_ST4000DM000)\n",
    "\n",
    "df_non_failing_ST12000NM0007 = pd.read_csv('C:/com748/code/com748/data/processed/non_failing_drives/random_ST12000NM0007.csv')\n",
    "df_non_failing_ST12000NM0007 = df_non_failing_ST12000NM0007.sample(n=2058, ignore_index=True)\n",
    "df_list_non_failing_drives.append(df_non_failing_ST12000NM0007)\n",
    "\n",
    "df_non_failing_ST8000NM0055 = pd.read_csv('C:/com748/code/com748/data/processed/non_failing_drives/random_ST8000NM0055.csv')\n",
    "df_non_failing_ST8000NM0055 = df_non_failing_ST8000NM0055.sample(n=1645, ignore_index=True)\n",
    "df_list_non_failing_drives.append(df_non_failing_ST8000NM0055)\n",
    "\n",
    "df_non_failing_ST3000DM001 = pd.read_csv('C:/com748/code/com748/data/processed/non_failing_drives/random_ST3000DM001.csv')\n",
    "df_non_failing_ST3000DM001 = df_non_failing_ST3000DM001.sample(n=1432, ignore_index=True)\n",
    "df_list_non_failing_drives.append(df_non_failing_ST3000DM001)\n",
    "\n",
    "df_non_failing_ST12000NM0008 = pd.read_csv('C:/com748/code/com748/data/processed/non_failing_drives/random_ST12000NM0008.csv')\n",
    "df_non_failing_ST12000NM0008 = df_non_failing_ST12000NM0008.sample(n=1306, ignore_index=True)\n",
    "df_list_non_failing_drives.append(df_non_failing_ST12000NM0008)\n",
    "\n",
    "df_non_failing_ST8000DM002 = pd.read_csv('C:/com748/code/com748/data/processed/non_failing_drives/random_ST8000DM002.csv')\n",
    "df_non_failing_ST8000DM002 = df_non_failing_ST8000DM002.sample(n=1008, ignore_index=True)\n",
    "df_list_non_failing_drives.append(df_non_failing_ST8000DM002)\n",
    "\n",
    "df_non_failing_ST14000NM001G = pd.read_csv('C:/com748/code/com748/data/processed/non_failing_drives/random_ST14000NM001G.csv')\n",
    "df_non_failing_ST14000NM001G = df_non_failing_ST14000NM001G.sample(n=402, ignore_index=True)\n",
    "df_list_non_failing_drives.append(df_non_failing_ST14000NM001G)\n",
    "\n",
    "df_non_failing_drives = pd.concat(df_list_non_failing_drives, ignore_index=True)\n",
    "model_non_failure_counts = df_non_failing_drives.model.value_counts()\n",
    "print(model_non_failure_counts)\n",
    "\n",
    "df_all = pd.concat([df_day_minus_1_failed, df_non_failing_drives], ignore_index=True)\n",
    "\n",
    "df_all.to_csv('C:/com748/code/com748/data/processed/balanced_dataset/day_minus_1.csv', index=False)"
   ]
  },
  {
   "cell_type": "markdown",
   "metadata": {},
   "source": [
    "# Day minus 2"
   ]
  },
  {
   "cell_type": "code",
   "execution_count": 8,
   "metadata": {},
   "outputs": [
    {
     "name": "stdout",
     "output_type": "stream",
     "text": [
      "model\n",
      "ST4000DM000      5527\n",
      "ST12000NM0007    2067\n",
      "ST8000NM0055     1640\n",
      "ST3000DM001      1420\n",
      "ST12000NM0008    1314\n",
      "ST8000DM002      1009\n",
      "ST14000NM001G     398\n",
      "Name: count, dtype: int64\n",
      "model\n",
      "ST4000DM000      5527\n",
      "ST12000NM0007    2067\n",
      "ST8000NM0055     1640\n",
      "ST3000DM001      1420\n",
      "ST12000NM0008    1314\n",
      "ST8000DM002      1009\n",
      "ST14000NM001G     398\n",
      "Name: count, dtype: int64\n"
     ]
    }
   ],
   "source": [
    "df_day_minus_2_failed = pd.read_csv('C:/com748/code/com748/data/processed/day_minus_2/failures.csv')\n",
    "model_failure_counts = df_day_minus_2_failed.model.value_counts()\n",
    "print(model_failure_counts)\n",
    "\n",
    "df_list_non_failing_drives = []\n",
    "\n",
    "df_non_failing_ST4000DM000 = pd.read_csv('C:/com748/code/com748/data/processed/non_failing_drives/random_ST4000DM000.csv')\n",
    "df_non_failing_ST4000DM000 = df_non_failing_ST4000DM000.sample(n=5527, ignore_index=True)\n",
    "df_list_non_failing_drives.append(df_non_failing_ST4000DM000)\n",
    "\n",
    "df_non_failing_ST12000NM0007 = pd.read_csv('C:/com748/code/com748/data/processed/non_failing_drives/random_ST12000NM0007.csv')\n",
    "df_non_failing_ST12000NM0007 = df_non_failing_ST12000NM0007.sample(n=2067, ignore_index=True)\n",
    "df_list_non_failing_drives.append(df_non_failing_ST12000NM0007)\n",
    "\n",
    "df_non_failing_ST8000NM0055 = pd.read_csv('C:/com748/code/com748/data/processed/non_failing_drives/random_ST8000NM0055.csv')\n",
    "df_non_failing_ST8000NM0055 = df_non_failing_ST8000NM0055.sample(n=1640, ignore_index=True)\n",
    "df_list_non_failing_drives.append(df_non_failing_ST8000NM0055)\n",
    "\n",
    "df_non_failing_ST3000DM001 = pd.read_csv('C:/com748/code/com748/data/processed/non_failing_drives/random_ST3000DM001.csv')\n",
    "df_non_failing_ST3000DM001 = df_non_failing_ST3000DM001.sample(n=1420, ignore_index=True)\n",
    "df_list_non_failing_drives.append(df_non_failing_ST3000DM001)\n",
    "\n",
    "df_non_failing_ST12000NM0008 = pd.read_csv('C:/com748/code/com748/data/processed/non_failing_drives/random_ST12000NM0008.csv')\n",
    "df_non_failing_ST12000NM0008 = df_non_failing_ST12000NM0008.sample(n=1314, ignore_index=True)\n",
    "df_list_non_failing_drives.append(df_non_failing_ST12000NM0008)\n",
    "\n",
    "df_non_failing_ST8000DM002 = pd.read_csv('C:/com748/code/com748/data/processed/non_failing_drives/random_ST8000DM002.csv')\n",
    "df_non_failing_ST8000DM002 = df_non_failing_ST8000DM002.sample(n=1009, ignore_index=True)\n",
    "df_list_non_failing_drives.append(df_non_failing_ST8000DM002)\n",
    "\n",
    "df_non_failing_ST14000NM001G = pd.read_csv('C:/com748/code/com748/data/processed/non_failing_drives/random_ST14000NM001G.csv')\n",
    "df_non_failing_ST14000NM001G = df_non_failing_ST14000NM001G.sample(n=398, ignore_index=True)\n",
    "df_list_non_failing_drives.append(df_non_failing_ST14000NM001G)\n",
    "\n",
    "df_non_failing_drives = pd.concat(df_list_non_failing_drives, ignore_index=True)\n",
    "model_non_failure_counts = df_non_failing_drives.model.value_counts()\n",
    "print(model_non_failure_counts)\n",
    "\n",
    "df_all = pd.concat([df_day_minus_2_failed, df_non_failing_drives], ignore_index=True)\n",
    "\n",
    "df_all.to_csv('C:/com748/code/com748/data/processed/balanced_dataset/day_minus_2.csv', index=False)"
   ]
  },
  {
   "cell_type": "markdown",
   "metadata": {},
   "source": [
    "# Day minus 7"
   ]
  },
  {
   "cell_type": "code",
   "execution_count": 10,
   "metadata": {},
   "outputs": [
    {
     "name": "stdout",
     "output_type": "stream",
     "text": [
      "model\n",
      "ST4000DM000      5503\n",
      "ST12000NM0007    2058\n",
      "ST8000NM0055     1683\n",
      "ST3000DM001      1436\n",
      "ST12000NM0008    1329\n",
      "ST8000DM002      1014\n",
      "ST14000NM001G     406\n",
      "Name: count, dtype: int64\n",
      "model\n",
      "ST4000DM000      5503\n",
      "ST12000NM0007    2058\n",
      "ST8000NM0055     1683\n",
      "ST3000DM001      1436\n",
      "ST12000NM0008    1329\n",
      "ST8000DM002      1014\n",
      "ST14000NM001G     406\n",
      "Name: count, dtype: int64\n"
     ]
    }
   ],
   "source": [
    "df_day_minus_7_failed = pd.read_csv('C:/com748/code/com748/data/processed/day_minus_7/failures.csv')\n",
    "model_failure_counts = df_day_minus_7_failed.model.value_counts()\n",
    "print(model_failure_counts)\n",
    "\n",
    "df_list_non_failing_drives = []\n",
    "\n",
    "df_non_failing_ST4000DM000 = pd.read_csv('C:/com748/code/com748/data/processed/non_failing_drives/random_ST4000DM000.csv')\n",
    "df_non_failing_ST4000DM000 = df_non_failing_ST4000DM000.sample(n=5503, ignore_index=True)\n",
    "df_list_non_failing_drives.append(df_non_failing_ST4000DM000)\n",
    "\n",
    "df_non_failing_ST12000NM0007 = pd.read_csv('C:/com748/code/com748/data/processed/non_failing_drives/random_ST12000NM0007.csv')\n",
    "df_non_failing_ST12000NM0007 = df_non_failing_ST12000NM0007.sample(n=2058, ignore_index=True)\n",
    "df_list_non_failing_drives.append(df_non_failing_ST12000NM0007)\n",
    "\n",
    "df_non_failing_ST8000NM0055 = pd.read_csv('C:/com748/code/com748/data/processed/non_failing_drives/random_ST8000NM0055.csv')\n",
    "df_non_failing_ST8000NM0055 = df_non_failing_ST8000NM0055.sample(n=1683, ignore_index=True)\n",
    "df_list_non_failing_drives.append(df_non_failing_ST8000NM0055)\n",
    "\n",
    "df_non_failing_ST3000DM001 = pd.read_csv('C:/com748/code/com748/data/processed/non_failing_drives/random_ST3000DM001.csv')\n",
    "df_non_failing_ST3000DM001 = df_non_failing_ST3000DM001.sample(n=1436, ignore_index=True)\n",
    "df_list_non_failing_drives.append(df_non_failing_ST3000DM001)\n",
    "\n",
    "df_non_failing_ST12000NM0008 = pd.read_csv('C:/com748/code/com748/data/processed/non_failing_drives/random_ST12000NM0008.csv')\n",
    "df_non_failing_ST12000NM0008 = df_non_failing_ST12000NM0008.sample(n=1329, ignore_index=True)\n",
    "df_list_non_failing_drives.append(df_non_failing_ST12000NM0008)\n",
    "\n",
    "df_non_failing_ST8000DM002 = pd.read_csv('C:/com748/code/com748/data/processed/non_failing_drives/random_ST8000DM002.csv')\n",
    "df_non_failing_ST8000DM002 = df_non_failing_ST8000DM002.sample(n=1014, ignore_index=True)\n",
    "df_list_non_failing_drives.append(df_non_failing_ST8000DM002)\n",
    "\n",
    "df_non_failing_ST14000NM001G = pd.read_csv('C:/com748/code/com748/data/processed/non_failing_drives/random_ST14000NM001G.csv')\n",
    "df_non_failing_ST14000NM001G = df_non_failing_ST14000NM001G.sample(n=406, ignore_index=True)\n",
    "df_list_non_failing_drives.append(df_non_failing_ST14000NM001G)\n",
    "\n",
    "df_non_failing_drives = pd.concat(df_list_non_failing_drives, ignore_index=True)\n",
    "model_non_failure_counts = df_non_failing_drives.model.value_counts()\n",
    "print(model_non_failure_counts)\n",
    "\n",
    "df_all = pd.concat([df_day_minus_7_failed, df_non_failing_drives], ignore_index=True)\n",
    "\n",
    "df_all.to_csv('C:/com748/code/com748/data/processed/balanced_dataset/day_minus_7.csv', index=False)"
   ]
  }
 ],
 "metadata": {
  "kernelspec": {
   "display_name": "venv",
   "language": "python",
   "name": "python3"
  },
  "language_info": {
   "codemirror_mode": {
    "name": "ipython",
    "version": 3
   },
   "file_extension": ".py",
   "mimetype": "text/x-python",
   "name": "python",
   "nbconvert_exporter": "python",
   "pygments_lexer": "ipython3",
   "version": "3.10.7"
  }
 },
 "nbformat": 4,
 "nbformat_minor": 2
}
