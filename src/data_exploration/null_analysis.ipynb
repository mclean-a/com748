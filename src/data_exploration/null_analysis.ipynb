{
 "cells": [
  {
   "cell_type": "markdown",
   "metadata": {},
   "source": [
    "# Dataset analysis to aid preprocessing #"
   ]
  },
  {
   "cell_type": "markdown",
   "metadata": {},
   "source": [
    "Herein analysis will be on the selected Seagate models with the most failures"
   ]
  },
  {
   "cell_type": "code",
   "execution_count": 1,
   "metadata": {},
   "outputs": [],
   "source": [
    "# Imports\n",
    "import pandas as pd"
   ]
  },
  {
   "cell_type": "code",
   "execution_count": 2,
   "metadata": {},
   "outputs": [
    {
     "name": "stderr",
     "output_type": "stream",
     "text": [
      "C:\\Users\\ali_m\\AppData\\Local\\Temp\\ipykernel_22728\\1834030829.py:2: DtypeWarning: Columns (181,186) have mixed types. Specify dtype option on import or set low_memory=False.\n",
      "  df_failures = pd.read_csv('C:/com748/code/com748/data/analysis/selected_models/failures.csv')\n"
     ]
    }
   ],
   "source": [
    "# Load selected models failures\n",
    "df_failures = pd.read_csv('C:/com748/code/com748/data/analysis/selected_models/failures.csv')\n",
    "\n"
   ]
  }
 ],
 "metadata": {
  "kernelspec": {
   "display_name": "venv",
   "language": "python",
   "name": "python3"
  },
  "language_info": {
   "codemirror_mode": {
    "name": "ipython",
    "version": 3
   },
   "file_extension": ".py",
   "mimetype": "text/x-python",
   "name": "python",
   "nbconvert_exporter": "python",
   "pygments_lexer": "ipython3",
   "version": "3.10.7"
  }
 },
 "nbformat": 4,
 "nbformat_minor": 2
}
